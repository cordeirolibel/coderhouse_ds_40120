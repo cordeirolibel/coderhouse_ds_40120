{
 "cells": [
  {
   "cell_type": "markdown",
   "metadata": {},
   "source": [
    "Trabajaremos con el archivo: **Life_Expectancy_Data**"
   ]
  },
  {
   "cell_type": "code",
   "execution_count": null,
   "metadata": {},
   "outputs": [],
   "source": [
    "import pandas as pd\n",
    "import numpy as np\n",
    "import matplotlib.pyplot as plt\n",
    "\n",
    "df = pd.read_csv(\"../bases/Life_Expectancy_Data.csv\", sep = \",\")\n",
    "df.head()"
   ]
  },
  {
   "cell_type": "code",
   "execution_count": null,
   "metadata": {},
   "outputs": [],
   "source": [
    "print(df.shape)"
   ]
  },
  {
   "cell_type": "code",
   "execution_count": null,
   "metadata": {},
   "outputs": [],
   "source": [
    "df.dtypes"
   ]
  },
  {
   "cell_type": "code",
   "execution_count": null,
   "metadata": {
    "scrolled": true
   },
   "outputs": [],
   "source": [
    "df.info()"
   ]
  },
  {
   "cell_type": "code",
   "execution_count": null,
   "metadata": {},
   "outputs": [],
   "source": [
    "df.columns"
   ]
  },
  {
   "cell_type": "code",
   "execution_count": null,
   "metadata": {},
   "outputs": [],
   "source": [
    "df.rename(columns={'Life expectancy ':'Life_expectancy','Adult Mortality':'Adult_Mortality','infant deaths': 'infant_deaths','percentage expenditure':'percentage_expenditure','Hepatitis B':'Hepatitis_B','Measles ':'Measles',' BMI ':'BMI', 'under-five deaths ':'under_five_deaths', 'Total expenditure':'Total_expenditure', 'Diphtheria ': 'Diphtheria',' HIV/AIDS':'HIV/AIDS', ' thinness  1-19 years':'thinness_1_19_years',' thinness 5-9 years':'thinness_5_9_years','Income composition of resources':'Income_composition_of_resources'}, inplace=True)"
   ]
  },
  {
   "cell_type": "code",
   "execution_count": null,
   "metadata": {},
   "outputs": [],
   "source": [
    "df.columns"
   ]
  },
  {
   "cell_type": "code",
   "execution_count": null,
   "metadata": {},
   "outputs": [],
   "source": [
    "df.info()"
   ]
  },
  {
   "cell_type": "code",
   "execution_count": null,
   "metadata": {},
   "outputs": [],
   "source": [
    "df = df.dropna()"
   ]
  },
  {
   "cell_type": "code",
   "execution_count": null,
   "metadata": {},
   "outputs": [],
   "source": [
    "y = df['Life_expectancy'].to_numpy() \n",
    "\n",
    "for n in df.columns:\n",
    "    if str(df[n].dtype) == 'object' or str(df[n].dtype) == 'category':\n",
    "        df[n] = df[n].astype('category').cat.codes\n",
    "X = df.drop(['Life_expectancy'], axis=1).to_numpy()\n",
    "df.head()"
   ]
  },
  {
   "cell_type": "markdown",
   "metadata": {},
   "source": [
    "Começaremos aplicando o método **KFold**."
   ]
  },
  {
   "cell_type": "code",
   "execution_count": null,
   "metadata": {},
   "outputs": [],
   "source": [
    "##KFold - Train e Test\n",
    "from sklearn.model_selection import KFold\n",
    "KFold = KFold(n_splits=5, random_state=0, shuffle=True)\n",
    "train, test = list(KFold.split(X))[0]\n",
    "X_train = X[train]\n",
    "X_test = X[test]\n",
    "y_train = y[train]\n",
    "y_test = y[test]"
   ]
  },
  {
   "cell_type": "code",
   "execution_count": null,
   "metadata": {},
   "outputs": [],
   "source": [
    "from sklearn.model_selection import KFold\n",
    "from sklearn.tree import DecisionTreeRegressor\n",
    "from sklearn.model_selection import GridSearchCV\n",
    "\n",
    "t = DecisionTreeRegressor()\n",
    "\n",
    "par = list(np.arange(0.0, 1., step=0.05))\n",
    "cv = KFold(n_splits=5, random_state=0, shuffle=True)\n",
    "\n",
    "tunner = GridSearchCV(estimator=t, param_grid={'ccp_alpha':par}, cv=cv)\n",
    "_=tunner.fit(X_train, y_train)"
   ]
  },
  {
   "cell_type": "code",
   "execution_count": null,
   "metadata": {},
   "outputs": [],
   "source": [
    "print('Train score KFold Tree: ' + str(tunner.score(X_train, y_train)))\n",
    "print('Test score KFold Tree: ' + str(tunner.score(X_test, y_test)))"
   ]
  },
  {
   "cell_type": "markdown",
   "metadata": {},
   "source": [
    "**Interpretações**\n",
    "\n",
    "Ao analisar as métricas obtidas, podemos identificar que os valores em Train e Test são semelhantes e significativamente altos. Os resultados alcançados estão detalhados a seguir:\n",
    "\n",
    "* Pontuação do trem KFold Tree: 0,9532587993823117\n",
    "* Pontuação do teste KFold Tree: 0,9152860839590284"
   ]
  },
  {
   "cell_type": "code",
   "execution_count": null,
   "metadata": {},
   "outputs": [],
   "source": [
    "#StratifiedKFold - Train y Test\n",
    "from sklearn.model_selection import StratifiedKFold\n",
    "skf = StratifiedKFold(n_splits=5, random_state=0, shuffle=True)\n",
    "train_2, test_2 = list(skf.split(X, y))[0]\n",
    "X_train_2 = X[train_2]\n",
    "X_test_2 = X[test_2]\n",
    "y_train_2 = y[train_2]\n",
    "y_test_2= y[test_2]"
   ]
  },
  {
   "cell_type": "markdown",
   "metadata": {},
   "source": [
    "Como pode ser visto no erro obtido, não podemos usar StratifiedKFold, pois os tipos de destino suportados são: 'binário' ou 'multiclasse'. Em vez disso, nossa variável de destino: **Life_expectancy** é do tipo 'contínuo'.\n",
    "\n"
   ]
  },
  {
   "cell_type": "code",
   "execution_count": null,
   "metadata": {},
   "outputs": [],
   "source": []
  }
 ],
 "metadata": {
  "kernelspec": {
   "display_name": "Python 3 (ipykernel)",
   "language": "python",
   "name": "python3"
  },
  "language_info": {
   "codemirror_mode": {
    "name": "ipython",
    "version": 3
   },
   "file_extension": ".py",
   "mimetype": "text/x-python",
   "name": "python",
   "nbconvert_exporter": "python",
   "pygments_lexer": "ipython3",
   "version": "3.9.12"
  },
  "varInspector": {
   "cols": {
    "lenName": 16,
    "lenType": 16,
    "lenVar": 40
   },
   "kernels_config": {
    "python": {
     "delete_cmd_postfix": "",
     "delete_cmd_prefix": "del ",
     "library": "var_list.py",
     "varRefreshCmd": "print(var_dic_list())"
    },
    "r": {
     "delete_cmd_postfix": ") ",
     "delete_cmd_prefix": "rm(",
     "library": "var_list.r",
     "varRefreshCmd": "cat(var_dic_list()) "
    }
   },
   "types_to_exclude": [
    "module",
    "function",
    "builtin_function_or_method",
    "instance",
    "_Feature"
   ],
   "window_display": false
  }
 },
 "nbformat": 4,
 "nbformat_minor": 4
}
