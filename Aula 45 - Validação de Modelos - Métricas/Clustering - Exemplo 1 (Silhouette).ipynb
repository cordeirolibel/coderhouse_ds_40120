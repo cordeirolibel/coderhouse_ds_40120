{
 "cells": [
  {
   "cell_type": "markdown",
   "metadata": {
    "id": "6OWuRRAMw7S0"
   },
   "source": [
    "# Calculando o score Silhouette"
   ]
  },
  {
   "cell_type": "code",
   "execution_count": null,
   "metadata": {
    "id": "XgND-b_sw7S5"
   },
   "outputs": [],
   "source": [
    "#Importamos os pacotes\n",
    "import pandas as pd\n",
    "import numpy as np\n",
    "import seaborn as sns\n",
    "from sklearn.cluster import KMeans\n",
    "from sklearn.metrics import silhouette_score\n",
    "%matplotlib inline"
   ]
  },
  {
   "cell_type": "code",
   "execution_count": null,
   "metadata": {
    "id": "q2cbFUh0w7S6"
   },
   "outputs": [],
   "source": [
    "#Generamos data aleatoria\n",
    "X= np.random.rand(50,2)\n",
    "Y= 2 + np.random.rand(50,2)\n",
    "Z= np.concatenate((X,Y))\n",
    "Z=pd.DataFrame(Z)"
   ]
  },
  {
   "cell_type": "code",
   "execution_count": null,
   "metadata": {
    "colab": {
     "base_uri": "https://localhost:8080/",
     "height": 351
    },
    "executionInfo": {
     "elapsed": 737,
     "status": "ok",
     "timestamp": 1653961157892,
     "user": {
      "displayName": "Wesley Furriel",
      "userId": "03516357509047911115"
     },
     "user_tz": 180
    },
    "id": "sVFRn09dw7S7",
    "outputId": "a27867b1-d634-4c7a-8309-975e651455cb"
   },
   "outputs": [
    {
     "name": "stderr",
     "output_type": "stream",
     "text": [
      "/usr/local/lib/python3.7/dist-packages/seaborn/_decorators.py:43: FutureWarning: Pass the following variables as keyword args: x, y. From version 0.12, the only valid positional argument will be `data`, and passing other arguments without an explicit keyword will result in an error or misinterpretation.\n",
      "  FutureWarning\n"
     ]
    },
    {
     "data": {
      "text/plain": [
       "<matplotlib.axes._subplots.AxesSubplot at 0x7f5d994e6e90>"
      ]
     },
     "execution_count": 3,
     "metadata": {},
     "output_type": "execute_result"
    },
    {
     "data": {
      "image/png": "[encoded data removed]",
      "text/plain": [
       "<Figure size 432x288 with 1 Axes>"
      ]
     },
     "metadata": {
      "needs_background": "light"
     },
     "output_type": "display_data"
    }
   ],
   "source": [
    "#Ploteamos\n",
    "sns.scatterplot(Z[0],Z[1])"
   ]
  },
  {
   "cell_type": "code",
   "execution_count": null,
   "metadata": {
    "id": "5dMPzUGuw7S8"
   },
   "outputs": [],
   "source": [
    "#Aplicamos K-Means com 2 clusters\n",
    "KMean= KMeans(n_clusters=2)\n",
    "KMean.fit(Z)\n",
    "label=KMean.predict(Z)"
   ]
  },
  {
   "cell_type": "code",
   "execution_count": null,
   "metadata": {
    "colab": {
     "base_uri": "https://localhost:8080/"
    },
    "executionInfo": {
     "elapsed": 361,
     "status": "ok",
     "timestamp": 1653961174099,
     "user": {
      "displayName": "Wesley Furriel",
      "userId": "03516357509047911115"
     },
     "user_tz": 180
    },
    "id": "ETmh9K3Qw7S9",
    "outputId": "8354f4ec-e2f6-41bd-8d62-0990ba45ce1f"
   },
   "outputs": [
    {
     "name": "stdout",
     "output_type": "stream",
     "text": [
      "Silhouette Score(n=2): 0.8104551215706145\n"
     ]
    }
   ],
   "source": [
    "#Calculamos o Índice de Silhouette\n",
    "print(f'Silhouette Score(n=2): {silhouette_score(Z, label)}')"
   ]
  },
  {
   "cell_type": "markdown",
   "metadata": {
    "id": "IJCxVc0fw7S9"
   },
   "source": [
    "**Insight**\n",
    "\n",
    "Podemos dizer que os grupos estão bem separados uns dos outros, pois a métrica Silhouette nos dá um resultado próximo de 1. No entanto, para verificar se nossa pontuação de silhueta fornece as informações corretas ou não, podemos criar outro gráfico de dispersão que mostre os dados rotulados pontos como mostrado abaixo:"
   ]
  },
  {
   "cell_type": "code",
   "execution_count": null,
   "metadata": {
    "colab": {
     "base_uri": "https://localhost:8080/",
     "height": 351
    },
    "executionInfo": {
     "elapsed": 811,
     "status": "ok",
     "timestamp": 1653961219580,
     "user": {
      "displayName": "Wesley Furriel",
      "userId": "03516357509047911115"
     },
     "user_tz": 180
    },
    "id": "favG2QwMw7S-",
    "outputId": "d716dd0e-2305-4d46-bb53-23624891387e"
   },
   "outputs": [
    {
     "name": "stderr",
     "output_type": "stream",
     "text": [
      "/usr/local/lib/python3.7/dist-packages/seaborn/_decorators.py:43: FutureWarning: Pass the following variables as keyword args: x, y. From version 0.12, the only valid positional argument will be `data`, and passing other arguments without an explicit keyword will result in an error or misinterpretation.\n",
      "  FutureWarning\n"
     ]
    },
    {
     "data": {
      "text/plain": [
       "<matplotlib.axes._subplots.AxesSubplot at 0x7f5d9943eb10>"
      ]
     },
     "execution_count": 6,
     "metadata": {},
     "output_type": "execute_result"
    },
    {
     "data": {
      "image/png": "[encoded data removed]",
      "text/plain": [
       "<Figure size 432x288 with 1 Axes>"
      ]
     },
     "metadata": {
      "needs_background": "light"
     },
     "output_type": "display_data"
    }
   ],
   "source": [
    "sns.scatterplot(Z[0],Z[1],hue=label)"
   ]
  },
  {
   "cell_type": "markdown",
   "metadata": {
    "id": "wj5Vvfv-w7S_"
   },
   "source": [
    "Como podemos ver, vê-se claramente na figura anterior que cada grupo está muito separado um do outro. Isso significa que o valor obtido para o índice Silhouette deverá ser próximo de 1."
   ]
  },
  {
   "cell_type": "markdown",
   "metadata": {
    "id": "oJdSTC-Tw7S_"
   },
   "source": [
    "Vamos tentar com 3 clusters para ver o que acontece agora..."
   ]
  },
  {
   "cell_type": "code",
   "execution_count": null,
   "metadata": {
    "id": "cDAZcddvw7TA"
   },
   "outputs": [],
   "source": [
    "KMean= KMeans(n_clusters=3)\n",
    "KMean.fit(Z)\n",
    "label=KMean.predict(Z)"
   ]
  },
  {
   "cell_type": "code",
   "execution_count": null,
   "metadata": {
    "colab": {
     "base_uri": "https://localhost:8080/"
    },
    "executionInfo": {
     "elapsed": 341,
     "status": "ok",
     "timestamp": 1653961257092,
     "user": {
      "displayName": "Wesley Furriel",
      "userId": "03516357509047911115"
     },
     "user_tz": 180
    },
    "id": "2wAMHsjYw7TA",
    "outputId": "cf0546ff-37df-438f-8dac-0e0c01eaddda"
   },
   "outputs": [
    {
     "name": "stdout",
     "output_type": "stream",
     "text": [
      "Silhouette Score(n=3): 0.6091839803203495\n"
     ]
    }
   ],
   "source": [
    "#Calculamos o Índice de Silhouette\n",
    "print(f'Silhouette Score(n=3): {silhouette_score(Z, label)}')"
   ]
  },
  {
   "cell_type": "code",
   "execution_count": null,
   "metadata": {
    "colab": {
     "base_uri": "https://localhost:8080/",
     "height": 351
    },
    "executionInfo": {
     "elapsed": 948,
     "status": "ok",
     "timestamp": 1653961262072,
     "user": {
      "displayName": "Wesley Furriel",
      "userId": "03516357509047911115"
     },
     "user_tz": 180
    },
    "id": "Ap6B9NEPw7TB",
    "outputId": "74458bae-c8a9-4eb6-8f68-7889a8932bad"
   },
   "outputs": [
    {
     "name": "stderr",
     "output_type": "stream",
     "text": [
      "/usr/local/lib/python3.7/dist-packages/seaborn/_decorators.py:43: FutureWarning: Pass the following variables as keyword args: x, y. From version 0.12, the only valid positional argument will be `data`, and passing other arguments without an explicit keyword will result in an error or misinterpretation.\n",
      "  FutureWarning\n"
     ]
    },
    {
     "data": {
      "text/plain": [
       "<matplotlib.axes._subplots.AxesSubplot at 0x7f5d98f36090>"
      ]
     },
     "execution_count": 9,
     "metadata": {},
     "output_type": "execute_result"
    },
    {
     "data": {
      "image/png": "[encoded data removed]",
      "text/plain": [
       "<Figure size 432x288 with 1 Axes>"
      ]
     },
     "metadata": {
      "needs_background": "light"
     },
     "output_type": "display_data"
    }
   ],
   "source": [
    "#Plots\n",
    "sns.scatterplot(Z[0],Z[1],hue=label,palette='inferno_r')"
   ]
  },
  {
   "cell_type": "markdown",
   "metadata": {
    "id": "xBTfKi3mw7TB"
   },
   "source": [
    "**Aplicações**\n",
    "Como podemos ver na figura anterior, os grupos não estão bem separados. A distância intergrupo entre o grupo 1 e o grupo 2 é quase insignificante. É por isso que a pontuação da silhueta para n = 3 é menor do que para n = 2.\n",
    "\n",
    "Quando se trata de dimensões superiores, a pontuação da silhueta é bastante útil para validar o funcionamento do algoritmo de agrupamento, pois não podemos utilizar nenhum tipo de visualização para validar o agrupamento quando as dimensões são maiores que 3.\n",
    "\n",
    "Também podemos usar a pontuação da silhueta para verificar o número ideal de clusters. No exemplo acima, podemos dizer que o número ideal de clusters é 2, pois sua pontuação de silhueta é maior que a de 3 clusters."
   ]
  }
 ],
 "metadata": {
  "colab": {
   "collapsed_sections": [],
   "name": "REVISADO Clustering - Exemplo 1 (Silhouette).ipynb",
   "provenance": []
  },
  "kernelspec": {
   "display_name": "Python 3 (ipykernel)",
   "language": "python",
   "name": "python3"
  },
  "language_info": {
   "codemirror_mode": {
    "name": "ipython",
    "version": 3
   },
   "file_extension": ".py",
   "mimetype": "text/x-python",
   "name": "python",
   "nbconvert_exporter": "python",
   "pygments_lexer": "ipython3",
   "version": "3.9.12"
  },
  "varInspector": {
   "cols": {
    "lenName": 16,
    "lenType": 16,
    "lenVar": 40
   },
   "kernels_config": {
    "python": {
     "delete_cmd_postfix": "",
     "delete_cmd_prefix": "del ",
     "library": "var_list.py",
     "varRefreshCmd": "print(var_dic_list())"
    },
    "r": {
     "delete_cmd_postfix": ") ",
     "delete_cmd_prefix": "rm(",
     "library": "var_list.r",
     "varRefreshCmd": "cat(var_dic_list()) "
    }
   },
   "types_to_exclude": [
    "module",
    "function",
    "builtin_function_or_method",
    "instance",
    "_Feature"
   ],
   "window_display": false
  }
 },
 "nbformat": 4,
 "nbformat_minor": 4
}
