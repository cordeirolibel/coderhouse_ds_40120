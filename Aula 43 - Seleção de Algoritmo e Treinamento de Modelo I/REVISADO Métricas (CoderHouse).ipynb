{
 "cells": [
  {
   "cell_type": "markdown",
   "metadata": {
    "id": "xRJ61keQBJgT"
   },
   "source": [
    "# Introdução\n",
    "\n",
    "Métricas para Algoritmos de Classificação:\n",
    "\n",
    "* Acurácia\t\n",
    "* Precisão\n",
    "* Sensibilidade\n",
    "* Especificidade\n",
    "* F1- Score\n",
    "* KS"
   ]
  },
  {
   "cell_type": "code",
   "execution_count": 10,
   "metadata": {
    "executionInfo": {
     "elapsed": 259,
     "status": "ok",
     "timestamp": 1672876180857,
     "user": {
      "displayName": "Wesley Furriel",
      "userId": "03516357509047911115"
     },
     "user_tz": 180
    },
    "id": "4wL6GmDVmGMe"
   },
   "outputs": [],
   "source": [
    "from sklearn.datasets import load_breast_cancer\n",
    "from sklearn.ensemble import RandomForestClassifier\n",
    "from sklearn.model_selection import train_test_split\n",
    "\n",
    "import matplotlib.pyplot as plt\n",
    "from sklearn.metrics import confusion_matrix\n",
    "from sklearn.metrics import ConfusionMatrixDisplay\n",
    "from sklearn.metrics import accuracy_score\n",
    "from sklearn.metrics import precision_score\n",
    "from sklearn.metrics import recall_score\n",
    "from sklearn.metrics import f1_score\n",
    "from scipy.stats import ks_2samp\n",
    "from sklearn.metrics import roc_curve, auc"
   ]
  },
  {
   "cell_type": "code",
   "execution_count": 3,
   "metadata": {
    "colab": {
     "base_uri": "https://localhost:8080/"
    },
    "executionInfo": {
     "elapsed": 662,
     "status": "ok",
     "timestamp": 1672876227909,
     "user": {
      "displayName": "Wesley Furriel",
      "userId": "03516357509047911115"
     },
     "user_tz": 180
    },
    "id": "dxrltumOBJga",
    "outputId": "0cbfcfa0-7c31-45ee-9dd7-357ef8227622"
   },
   "outputs": [
    {
     "name": "stdout",
     "output_type": "stream",
     "text": [
      "Train Data: (455, 30), (455,)\n",
      "Train Data: (114, 30), (114,)\n"
     ]
    }
   ],
   "source": [
    "diabetes_data = load_breast_cancer()\n",
    "\n",
    "# Separamos en X e y\n",
    "X = diabetes_data.data\n",
    "y = diabetes_data.target\n",
    "\n",
    "X_train, X_test, y_train, y_test = train_test_split(X, y, test_size=0.2, random_state=24)\n",
    "print(f\"Train Data: {X_train.shape}, {y_train.shape}\")\n",
    "print(f\"Train Data: {X_test.shape}, {y_test.shape}\")\n",
    "\n",
    "classifier = RandomForestClassifier(random_state=18)\n",
    "classifier.fit(X_train, y_train)\n",
    "\n",
    "predictions = classifier.predict(X_test)"
   ]
  },
  {
   "cell_type": "markdown",
   "metadata": {
    "id": "v8MNyvoEBJgc"
   },
   "source": [
    "# Acurácia"
   ]
  },
  {
   "cell_type": "code",
   "execution_count": 4,
   "metadata": {
    "colab": {
     "base_uri": "https://localhost:8080/"
    },
    "executionInfo": {
     "elapsed": 304,
     "status": "ok",
     "timestamp": 1672876255557,
     "user": {
      "displayName": "Wesley Furriel",
      "userId": "03516357509047911115"
     },
     "user_tz": 180
    },
    "id": "aqqNhtdyBJgd",
    "outputId": "ce10ed0f-8536-4086-dd31-4a0295f322f7"
   },
   "outputs": [
    {
     "name": "stdout",
     "output_type": "stream",
     "text": [
      "Accuracy of the classifier is: 0.9473684210526315\n"
     ]
    }
   ],
   "source": [
    "# Acurácia\n",
    "acur = accuracy_score(y_test, predictions)\n",
    "print(f\"Accuracy of the classifier is: {acur}\")"
   ]
  },
  {
   "cell_type": "markdown",
   "metadata": {
    "id": "EMTyrHPABJgd"
   },
   "source": [
    "# Matriz de confusão"
   ]
  },
  {
   "cell_type": "markdown",
   "metadata": {
    "id": "zBCfQ8JABJgf"
   },
   "source": [
    "**Lembrando**\n",
    "\n",
    "* VP: Classificação correta da classe Positiva\n",
    "* FN (Erro Tipo II): erro em que o modelo previu a classe Negativo quando o real era Positiva\n",
    "* FP (Erro Tipo I): erro em que o modelo previu a classe Positiva quando o real era Negativa\n",
    "* VN: Classificação correta da classe Negativa.\n"
   ]
  },
  {
   "cell_type": "code",
   "execution_count": 11,
   "metadata": {
    "colab": {
     "base_uri": "https://localhost:8080/",
     "height": 372
    },
    "executionInfo": {
     "elapsed": 285,
     "status": "ok",
     "timestamp": 1672876264322,
     "user": {
      "displayName": "Wesley Furriel",
      "userId": "03516357509047911115"
     },
     "user_tz": 180
    },
    "id": "9rmOrPFiBJgf",
    "outputId": "4ca00747-eb64-4ec4-f856-953d225f565c"
   },
   "outputs": [
    {
     "name": "stdout",
     "output_type": "stream",
     "text": [
      "[[39  2]\n",
      " [ 4 69]]\n"
     ]
    },
    {
     "data": {
      "image/png": "[encoded data removed]",
      "text/plain": [
       "<Figure size 640x480 with 2 Axes>"
      ]
     },
     "metadata": {},
     "output_type": "display_data"
    }
   ],
   "source": [
    "#Matriz de Confusão\n",
    "con_matrix = confusion_matrix(y_test, predictions)\n",
    "\n",
    "print(con_matrix)\n",
    "\n",
    "dist = ConfusionMatrixDisplay(con_matrix)\n",
    "dist.plot()\n",
    "plt.show()"
   ]
  },
  {
   "cell_type": "markdown",
   "metadata": {
    "id": "6Cm7Uo0iBJgg"
   },
   "source": [
    "# Precisão:   VP/(VP+FP)\n"
   ]
  },
  {
   "cell_type": "markdown",
   "metadata": {
    "id": "-8sgXhF3BJgh"
   },
   "source": [
    "Para ilustrar essa métrica, vejamos um exemplo de caso de uso de detecção de spam. Se nosso modelo detectar um e-mail como spam que na verdade não era spam, o usuário pode perder um e-mail importante, ou seja, os falsos positivos devem ser reduzidos aqui. Portanto, neste caso de uso, precisamos usar a precisão como métrica para medir a qualidade do nosso classificador."
   ]
  },
  {
   "cell_type": "code",
   "execution_count": 17,
   "metadata": {
    "colab": {
     "base_uri": "https://localhost:8080/"
    },
    "executionInfo": {
     "elapsed": 258,
     "status": "ok",
     "timestamp": 1672876337509,
     "user": {
      "displayName": "Wesley Furriel",
      "userId": "03516357509047911115"
     },
     "user_tz": 180
    },
    "id": "xnUXVVjFBJgh",
    "outputId": "c15a41e2-ae18-42cc-fa4a-95adda09d406"
   },
   "outputs": [
    {
     "name": "stdout",
     "output_type": "stream",
     "text": [
      "Precisão: 0.971830985915493\n"
     ]
    }
   ],
   "source": [
    "# Precisão!\n",
    "prec = precision_score(y_test, predictions)\n",
    "print(f\"Precisão: {prec}\")"
   ]
  },
  {
   "cell_type": "markdown",
   "metadata": {
    "id": "MKNCyfRJBJgi"
   },
   "source": [
    "# Sensibilidade: VP/(VP+FN)"
   ]
  },
  {
   "cell_type": "markdown",
   "metadata": {
    "id": "SfKPok6uBJgi"
   },
   "source": [
    "Vejamos um exemplo de caso de uso de previsão de câncer. Considere uma pessoa que realmente tem câncer, mas nosso classificador previu que ela não era um paciente com câncer, o que pode levar a maus-tratos da pessoa, ou seja, os falsos negativos devem ser reduzidos aqui. Então, neste caso, precisamos usar o recall como uma métrica para medir a qualidade do nosso classificador."
   ]
  },
  {
   "cell_type": "code",
   "execution_count": 18,
   "metadata": {
    "colab": {
     "base_uri": "https://localhost:8080/"
    },
    "executionInfo": {
     "elapsed": 269,
     "status": "ok",
     "timestamp": 1672876346889,
     "user": {
      "displayName": "Wesley Furriel",
      "userId": "03516357509047911115"
     },
     "user_tz": 180
    },
    "id": "uxy2-YWlBJgj",
    "outputId": "dae0735d-ce94-42d4-9dda-468add4eeb79"
   },
   "outputs": [
    {
     "name": "stdout",
     "output_type": "stream",
     "text": [
      "Recall: 0.9452054794520548\n"
     ]
    }
   ],
   "source": [
    "# Recall ou Sensibilidade\n",
    "rec = recall_score(y_test, predictions)\n",
    "print(f\"Recall: {rec}\")"
   ]
  },
  {
   "cell_type": "markdown",
   "metadata": {
    "id": "0aTwgQqfBJgj"
   },
   "source": [
    "# F1- Score: VP/(VP+(½)(FP+FN))"
   ]
  },
  {
   "cell_type": "code",
   "execution_count": 19,
   "metadata": {
    "colab": {
     "base_uri": "https://localhost:8080/"
    },
    "executionInfo": {
     "elapsed": 286,
     "status": "ok",
     "timestamp": 1672876350444,
     "user": {
      "displayName": "Wesley Furriel",
      "userId": "03516357509047911115"
     },
     "user_tz": 180
    },
    "id": "lCUYvtPxBJgj",
    "outputId": "cecde512-38a4-46e6-9865-63a1811c5ce1"
   },
   "outputs": [
    {
     "name": "stdout",
     "output_type": "stream",
     "text": [
      "F1 Score: 0.9583333333333334\n"
     ]
    }
   ],
   "source": [
    "# Calculo do F1 score\n",
    "f1 = f1_score(y_test, predictions)\n",
    "\n",
    "print(f\"F1 Score: {f1}\")"
   ]
  },
  {
   "cell_type": "markdown",
   "metadata": {
    "id": "xocwlCbDBJgk"
   },
   "source": [
    "**Curva ROC** \n",
    "\n",
    "A curva AUC-ROC é uma métrica de desempenho usada para medir o desempenho do modelo de classificação em diferentes valores de limite. Quanto maior o valor da AUC (Area Under the Curve), melhor será o nosso classificador na previsão das classes. AUC-ROC é usado principalmente em problemas de classificação binária.\n",
    "\n",
    "A curva ROC é plotada entre a taxa de verdadeiros positivos (TPR) e a taxa de falsos positivos (FPR), ou seja, TPR no eixo y e FPR no eixo y. AUC é a área sob a curva ROC.\n",
    "\n",
    "Um classificador excelente tem um valor AUC próximo a 1, enquanto um classificador ruim tem um valor AOC próximo a 0. Um classificador com uma pontuação AOC de 0,5 não possui nenhum recurso de separação de classes."
   ]
  },
  {
   "cell_type": "code",
   "execution_count": 15,
   "metadata": {
    "colab": {
     "base_uri": "https://localhost:8080/",
     "height": 313
    },
    "executionInfo": {
     "elapsed": 355,
     "status": "ok",
     "timestamp": 1672876399053,
     "user": {
      "displayName": "Wesley Furriel",
      "userId": "03516357509047911115"
     },
     "user_tz": 180
    },
    "id": "P6L-BisABJgk",
    "outputId": "a051d692-9f9c-491b-e8ab-64fb57990b6f"
   },
   "outputs": [
    {
     "name": "stdout",
     "output_type": "stream",
     "text": [
      "AUC for our classifier is: 0.9769462078182426\n"
     ]
    },
    {
     "data": {
      "image/png": "[encoded data removed]",
      "text/plain": [
       "<Figure size 640x480 with 1 Axes>"
      ]
     },
     "metadata": {},
     "output_type": "display_data"
    }
   ],
   "source": [
    "# CURVA - ROC\n",
    "class_probabilities = classifier.predict_proba(X_test)\n",
    "preds = class_probabilities[:, 1]\n",
    "\n",
    "fpr, tpr, threshold = roc_curve(y_test, preds)\n",
    "roc_auc = auc(fpr, tpr)\n",
    "\n",
    "# AUC\n",
    "print(f\"AUC for our classifier is: {roc_auc}\")\n",
    "\n",
    "# Plot da Curva ROC\n",
    "plt.title('Receiver Operating Characteristic')\n",
    "plt.plot(fpr, tpr, 'b', label = 'AUC = %0.2f' % roc_auc)\n",
    "plt.legend(loc = 'lower right')\n",
    "plt.plot([0, 1], [0, 1],'r--')\n",
    "plt.xlim([0, 1])\n",
    "plt.ylim([0, 1])\n",
    "plt.ylabel('True Positive Rate')\n",
    "plt.xlabel('False Positive Rate')\n",
    "plt.show()"
   ]
  },
  {
   "cell_type": "markdown",
   "metadata": {
    "id": "A8jXUTA4mRZ3"
   },
   "source": [
    "# KS"
   ]
  },
  {
   "cell_type": "code",
   "execution_count": 20,
   "metadata": {
    "colab": {
     "base_uri": "https://localhost:8080/"
    },
    "executionInfo": {
     "elapsed": 272,
     "status": "ok",
     "timestamp": 1672876491074,
     "user": {
      "displayName": "Wesley Furriel",
      "userId": "03516357509047911115"
     },
     "user_tz": 180
    },
    "id": "9ywT8ePdmQxf",
    "outputId": "a3973a2a-a0cd-4a3d-b622-873dd445aa19"
   },
   "outputs": [
    {
     "name": "stdout",
     "output_type": "stream",
     "text": [
      "KS: 100.0\n"
     ]
    }
   ],
   "source": [
    "KS = ks_2samp(predictions[predictions == 0], predictions[predictions == 1])\n",
    "print(f\"KS: {round(KS[0],2)*100}\")"
   ]
  },
  {
   "cell_type": "code",
   "execution_count": null,
   "metadata": {},
   "outputs": [],
   "source": []
  }
 ],
 "metadata": {
  "colab": {
   "provenance": []
  },
  "kernelspec": {
   "display_name": "Python 3 (ipykernel)",
   "language": "python",
   "name": "python3"
  },
  "language_info": {
   "codemirror_mode": {
    "name": "ipython",
    "version": 3
   },
   "file_extension": ".py",
   "mimetype": "text/x-python",
   "name": "python",
   "nbconvert_exporter": "python",
   "pygments_lexer": "ipython3",
   "version": "3.9.12"
  },
  "varInspector": {
   "cols": {
    "lenName": 16,
    "lenType": 16,
    "lenVar": 40
   },
   "kernels_config": {
    "python": {
     "delete_cmd_postfix": "",
     "delete_cmd_prefix": "del ",
     "library": "var_list.py",
     "varRefreshCmd": "print(var_dic_list())"
    },
    "r": {
     "delete_cmd_postfix": ") ",
     "delete_cmd_prefix": "rm(",
     "library": "var_list.r",
     "varRefreshCmd": "cat(var_dic_list()) "
    }
   },
   "types_to_exclude": [
    "module",
    "function",
    "builtin_function_or_method",
    "instance",
    "_Feature"
   ],
   "window_display": false
  }
 },
 "nbformat": 4,
 "nbformat_minor": 4
}
