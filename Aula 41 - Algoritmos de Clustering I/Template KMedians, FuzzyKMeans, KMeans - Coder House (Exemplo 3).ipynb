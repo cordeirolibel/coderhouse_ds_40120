{
 "cells": [
  {
   "cell_type": "code",
   "execution_count": null,
   "metadata": {},
   "outputs": [],
   "source": [
    "import numpy as np\n",
    "from sklearn_extensions.fuzzy_kmeans import KMedians, FuzzyKMeans, KMeans #pip3 install sklearn_extensions\n",
    "from sklearn.datasets import make_blobs\n",
    "\n",
    "#Establecemos una semilla\n",
    "np.random.seed(0)\n",
    "\n",
    "#Creamos datos de prueba\n",
    "batch_size = 45\n",
    "centers = [[1, 1], [-1, -1], [1, -1]]\n",
    "n_clusters = len(centers)\n",
    "X, labels_true = make_blobs(n_samples=1200, centers=centers, cluster_std=0.3)\n",
    "\n",
    "#Creacion de un objeto KMeans\n",
    "kmeans = KMeans(k=3)\n",
    "kmeans.fit(X)\n",
    "\n",
    "#Creacion de un objeto KMedians\n",
    "kmedians = KMedians(k=3)\n",
    "kmedians.fit(X)\n",
    "\n",
    "#Creacion de un objeto FuzzyKMeans\n",
    "fuzzy_kmeans = FuzzyKMeans(k=3, m=2)\n",
    "fuzzy_kmeans.fit(X)\n",
    "\n",
    "print('KMEANS')\n",
    "print(kmeans.cluster_centers_)\n",
    "\n",
    "print('KMEDIANS')\n",
    "print(kmedians.cluster_centers_)\n",
    "\n",
    "print('FUZZY_KMEANS')\n",
    "print(fuzzy_kmeans.cluster_centers_)"
   ]
  },
  {
   "cell_type": "code",
   "execution_count": null,
   "metadata": {},
   "outputs": [],
   "source": []
  }
 ],
 "metadata": {
  "kernelspec": {
   "display_name": "Python 3 (ipykernel)",
   "language": "python",
   "name": "python3"
  },
  "language_info": {
   "codemirror_mode": {
    "name": "ipython",
    "version": 3
   },
   "file_extension": ".py",
   "mimetype": "text/x-python",
   "name": "python",
   "nbconvert_exporter": "python",
   "pygments_lexer": "ipython3",
   "version": "3.9.12"
  },
  "varInspector": {
   "cols": {
    "lenName": 16,
    "lenType": 16,
    "lenVar": 40
   },
   "kernels_config": {
    "python": {
     "delete_cmd_postfix": "",
     "delete_cmd_prefix": "del ",
     "library": "var_list.py",
     "varRefreshCmd": "print(var_dic_list())"
    },
    "r": {
     "delete_cmd_postfix": ") ",
     "delete_cmd_prefix": "rm(",
     "library": "var_list.r",
     "varRefreshCmd": "cat(var_dic_list()) "
    }
   },
   "types_to_exclude": [
    "module",
    "function",
    "builtin_function_or_method",
    "instance",
    "_Feature"
   ],
   "window_display": false
  }
 },
 "nbformat": 4,
 "nbformat_minor": 4
}
